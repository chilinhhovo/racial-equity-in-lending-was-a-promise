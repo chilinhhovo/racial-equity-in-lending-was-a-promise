{
 "cells": [
  {
   "cell_type": "code",
   "execution_count": 11,
   "id": "4f59e0a7-7ae3-4d61-9f54-7d52700bad5d",
   "metadata": {},
   "outputs": [],
   "source": [
    "DEI_PROMPT = \"\"\"\n",
    "You are a financial policy analyst reviewing an annual report for diversity, equity, and inclusion (DEI) impact.\n",
    "\n",
    "Extract and summarize any information relevant to:\n",
    "- DEI commitments (e.g., hiring goals, DEI training, executive accountability)\n",
    "- Lending practices related to minority borrowers\n",
    "- Community reinvestment or CRA-related efforts\n",
    "- ESG disclosures with racial or equity-related components\n",
    "- The tone and specificity of the language used (e.g., measurable vs. vague)\n",
    "\n",
    "Provide a structured response in this exact format:\n",
    "---\n",
    "Company: [Company Name]\n",
    "Year: [Year]\n",
    "DEI Summary:\n",
    "- [Bullet point 1: DEI initiative or statistic]\n",
    "- [Bullet point 2: Lending or CRA info]\n",
    "- [Etc.]\n",
    "Language Tone: [Direct and measurable / General and vague]\n",
    "Notable Quotes: [\"Exact quote from report if helpful\"]\n",
    "CRA/ESG Mentions: [Yes/No + brief context]\n",
    "Overall Impression: [A short summary of how sincere or substantive the DEI effort feels, and how it might relate to lending equity]\n",
    "---\n",
    "\n",
    "If no relevant info is found, say:\n",
    "\"No substantive DEI info found.\"\n",
    "\"\"\"\n"
   ]
  },
  {
   "cell_type": "code",
   "execution_count": 8,
   "id": "bb594ff8-58e6-490d-a68d-0c94307ab9d3",
   "metadata": {},
   "outputs": [],
   "source": [
    "## analysis "
   ]
  },
  {
   "cell_type": "code",
   "execution_count": null,
   "id": "3a056a78-a0c9-473c-ac61-83d481a09a75",
   "metadata": {},
   "outputs": [],
   "source": []
  },
  {
   "cell_type": "code",
   "execution_count": null,
   "id": "286bf473-c924-41cc-a98f-f4ff4b40cdfc",
   "metadata": {},
   "outputs": [],
   "source": []
  },
  {
   "cell_type": "code",
   "execution_count": null,
   "id": "7415a1a0-0480-49ff-a755-7f97fe0c1fb3",
   "metadata": {},
   "outputs": [],
   "source": []
  }
 ],
 "metadata": {
  "kernelspec": {
   "display_name": "Python 3 (ipykernel)",
   "language": "python",
   "name": "python3"
  },
  "language_info": {
   "codemirror_mode": {
    "name": "ipython",
    "version": 3
   },
   "file_extension": ".py",
   "mimetype": "text/x-python",
   "name": "python",
   "nbconvert_exporter": "python",
   "pygments_lexer": "ipython3",
   "version": "3.10.12"
  }
 },
 "nbformat": 4,
 "nbformat_minor": 5
}
